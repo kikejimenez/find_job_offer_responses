{
 "cells": [
  {
   "cell_type": "code",
   "execution_count": 3,
   "metadata": {},
   "outputs": [],
   "source": [
    "text1 = '''\n",
    "Dear Mr. Hynes,\n",
    "\n",
    "As we discussed on the phone, I am very pleased to accept the position of Advertising Assistant with Smithfield Granite and Stonework. Thank you again for the opportunity. I am eager to make a positive contribution to the company and to work with everyone on the Smithfield team.\n",
    "\n",
    "As we discussed, my starting salary will be $48,000 and health and life insurance benefits will be provided after 30 days of employment.\n",
    "\n",
    "I look forward to starting employment on July 1, 20XX. If there is any additional information or paperwork you need prior to then, please let me know.\n",
    "\n",
    "Again, thank you very much.\n",
    "\n",
    "Handwritten Signature (hard copy letter)\n",
    "\n",
    "Jason Burnett\n",
    "'''\n",
    "\n",
    "\n",
    "text2 = '''\n",
    "Dear Mr Kelly\n",
    "\n",
    "Thank you very much for offering me the position of Customer Service Manager with XYZ Corporation.\n",
    "\n",
    "While I understand the position and your company offer a great deal to a prospective employee, I have had another offer which I believe more closely matches what I am looking for. Therefore, after giving it much careful thought, I must decline your offer.\n",
    "\n",
    "Thank you for your time and effort. I wish you and your company well.\n",
    "\n",
    "Sincerely\n",
    "\n",
    "Your signature\n",
    "Typed name\n",
    "'''"
   ]
  },
  {
   "cell_type": "code",
   "execution_count": 10,
   "metadata": {},
   "outputs": [],
   "source": [
    "#!pip install nltk"
   ]
  },
  {
   "cell_type": "code",
   "execution_count": 43,
   "metadata": {},
   "outputs": [],
   "source": [
    "openings = [line.strip().lower() for line in open('./data/opening_closing/opening.csv')]\n",
    "closings = [line.strip().lower() for line in open('./data/opening_closing/closing.csv')]"
   ]
  },
  {
   "cell_type": "code",
   "execution_count": 67,
   "metadata": {},
   "outputs": [],
   "source": [
    "from nltk.tokenize import sent_tokenize, word_tokenize\n",
    "def is_substring_in_string(substring,string):\n",
    "    '''Two criteria for a substring to be contained in string'''\n",
    "    string = string.strip().lower()\n",
    "    substring = substring.strip().lower()\n",
    "    set_token = lambda sent: set(word_tokenize(sent))\n",
    "    \n",
    "    if not (substring in string):\n",
    "        return False    \n",
    "    if not set_token(substring).issubset(set_token(string)):\n",
    "        return False\n",
    "    \n",
    "    return True\n",
    "    \n",
    "def is_valid_string(substrings,string):\n",
    "    '''A valid string is an opening or a closing'''\n",
    "    if len(string.split(' ')) > 6:\n",
    "        return False\n",
    "    return any(is_substring_in_string(substring,string) for substring in substrings)\n",
    "    "
   ]
  },
  {
   "cell_type": "code",
   "execution_count": 68,
   "metadata": {},
   "outputs": [],
   "source": [
    "#Test is_valid_string"
   ]
  },
  {
   "cell_type": "code",
   "execution_count": 77,
   "metadata": {},
   "outputs": [
    {
     "data": {
      "text/plain": [
       "True"
      ]
     },
     "execution_count": 77,
     "metadata": {},
     "output_type": "execute_result"
    }
   ],
   "source": [
    "#should return True\n",
    "string = 'hello mr. enrique'\n",
    "substrings = ['hello','hi']\n",
    "is_valid_string(substrings,string)"
   ]
  },
  {
   "cell_type": "code",
   "execution_count": 70,
   "metadata": {},
   "outputs": [
    {
     "data": {
      "text/plain": [
       "False"
      ]
     },
     "execution_count": 70,
     "metadata": {},
     "output_type": "execute_result"
    }
   ],
   "source": [
    "#should return False\n",
    "string = 'i said hi before cause it is important'\n",
    "substrings = ['hello','hi']\n",
    "is_valid_string(substrings,string) "
   ]
  },
  {
   "cell_type": "code",
   "execution_count": 117,
   "metadata": {},
   "outputs": [],
   "source": [
    "def find_text(openings,closings,text):\n",
    "    '''Results are openings or closings'''\n",
    "   \n",
    "    isopening, isclosing = False, False\n",
    "    lines = [line for line in text.split('\\n') if line]\n",
    "    results = []\n",
    "    \n",
    "    \n",
    "    for k,line in enumerate(lines):\n",
    "       \n",
    "        if isopening and isclosing:\n",
    "            result = '\\n'.join(lines[nb_open:nb_close])\n",
    "            results.append(result)\n",
    "            isopening, isclosing = False, False\n",
    "            \n",
    "        if not isopening:\n",
    "            isopening = is_valid_string(openings,line)\n",
    "            nb_open = k + 1\n",
    "\n",
    "        elif not isclosing:\n",
    "            isclosing = is_valid_string(closings,line)\n",
    "            nb_close = k\n",
    "            \n",
    "    return results       \n",
    "            "
   ]
  },
  {
   "cell_type": "code",
   "execution_count": 118,
   "metadata": {},
   "outputs": [
    {
     "name": "stdout",
     "output_type": "stream",
     "text": [
      "Should be False:\n"
     ]
    }
   ],
   "source": [
    "#Test find_text\n",
    "text1 = '''\n",
    "Dear Mr. Hynes,\n",
    "\n",
    "As we discussed on the phone, I am very pleased to accept the position of Advertising Assistant with Smithfield Granite and Stonework. Thank you again for the opportunity. I am eager to make a positive contribution to the company and to work with everyone on the Smithfield team.\n",
    "As we discussed, my starting salary will be $48,000 and health and life insurance benefits will be provided after 30 days of employment.\n",
    "I look forward to starting employment on July 1, 20XX. If there is any additional information or paperwork you need prior to then, please let me know.\n",
    "\n",
    "Again, thank you very much.\n",
    "\n",
    "Handwritten Signature (hard copy letter)\n",
    "Jason Burnett\n",
    "'''\n",
    "\n",
    "\n",
    "text2 = '''\n",
    "Dear Mr Kelly\n",
    "\n",
    "Thank you very much for offering me the position of Customer Service Manager with XYZ Corporation.\n",
    "While I understand the position and your company offer a great deal to a prospective employee, I have had another offer which I believe more closely matches what I am looking for. Therefore, after giving it much careful thought, I must decline your offer.\n",
    "Thank you for your time and effort. I wish you and your company well.\n",
    "\n",
    "Sincerely\n",
    "\n",
    "Your signature\n",
    "Typed name\n",
    "'''\n",
    "\n",
    "openings = ['hello', 'good morning', 'good afternoon', 'hi', 'dear', 'to whom it may concern', 'my darling']\n",
    "\n",
    "closings = ['best', 'my best', 'regards', 'respectfully', 'sincerely',\n",
    "            'thank you', 'yours', 'cordially', 'with appreciation',\n",
    "            'with gratitude', 'with sincere']\n",
    "\n",
    "print('Should be False:' )"
   ]
  },
  {
   "cell_type": "code",
   "execution_count": 119,
   "metadata": {},
   "outputs": [],
   "source": [
    "#text1.strip().lower()"
   ]
  },
  {
   "cell_type": "code",
   "execution_count": 120,
   "metadata": {},
   "outputs": [
    {
     "data": {
      "text/plain": [
       "['as we discussed on the phone, i am very pleased to accept the position of advertising assistant with smithfield granite and stonework. thank you again for the opportunity. i am eager to make a positive contribution to the company and to work with everyone on the smithfield team.\\nas we discussed, my starting salary will be $48,000 and health and life insurance benefits will be provided after 30 days of employment.\\ni look forward to starting employment on july 1, 20xx. if there is any additional information or paperwork you need prior to then, please let me know.']"
      ]
     },
     "execution_count": 120,
     "metadata": {},
     "output_type": "execute_result"
    }
   ],
   "source": [
    "find_text(openings,closings,text1.lower())"
   ]
  },
  {
   "cell_type": "code",
   "execution_count": 121,
   "metadata": {},
   "outputs": [
    {
     "data": {
      "text/plain": [
       "['thank you very much for offering me the position of customer service manager with xyz corporation.\\nwhile i understand the position and your company offer a great deal to a prospective employee, i have had another offer which i believe more closely matches what i am looking for. therefore, after giving it much careful thought, i must decline your offer.\\nthank you for your time and effort. i wish you and your company well.']"
      ]
     },
     "execution_count": 121,
     "metadata": {},
     "output_type": "execute_result"
    }
   ],
   "source": [
    "find_text(openings,closings,text2.lower())"
   ]
  },
  {
   "cell_type": "code",
   "execution_count": 122,
   "metadata": {},
   "outputs": [
    {
     "data": {
      "text/plain": [
       "['as we discussed on the phone, i am very pleased to accept the position of advertising assistant with smithfield granite and stonework. thank you again for the opportunity. i am eager to make a positive contribution to the company and to work with everyone on the smithfield team.\\nas we discussed, my starting salary will be $48,000 and health and life insurance benefits will be provided after 30 days of employment.\\ni look forward to starting employment on july 1, 20xx. if there is any additional information or paperwork you need prior to then, please let me know.',\n",
       " 'thank you very much for offering me the position of customer service manager with xyz corporation.\\nwhile i understand the position and your company offer a great deal to a prospective employee, i have had another offer which i believe more closely matches what i am looking for. therefore, after giving it much careful thought, i must decline your offer.\\nthank you for your time and effort. i wish you and your company well.']"
      ]
     },
     "execution_count": 122,
     "metadata": {},
     "output_type": "execute_result"
    }
   ],
   "source": [
    "text3 = text1+'\\n'+text2\n",
    "find_text(openings,closings,text3.lower())"
   ]
  },
  {
   "cell_type": "code",
   "execution_count": null,
   "metadata": {},
   "outputs": [],
   "source": []
  },
  {
   "cell_type": "code",
   "execution_count": 96,
   "metadata": {},
   "outputs": [
    {
     "name": "stderr",
     "output_type": "stream",
     "text": [
      "[nltk_data] Downloading package punkt to /home/enrique/nltk_data...\n",
      "[nltk_data]   Package punkt is already up-to-date!\n"
     ]
    }
   ],
   "source": [
    "import nltk\n",
    "nltk.download('punkt')\n",
    "\n",
    "def find_text(begin,end,text):\n",
    "    \n",
    "    begin = begin.strip().lower()\n",
    "    end = end.strip().lower()\n",
    "    text = text.strip().lower()\n",
    "    \n",
    "    result = []\n",
    "    \n",
    "    partitions = text.split(begin)[1:]\n",
    "    #len(line.strip().strip(' ')) < 6\n",
    "    \n",
    "    if not partitions:\n",
    "        return []\n",
    "    \n",
    "    for string in partitions:\n",
    "        result.append(string.split(end)[0])\n",
    "        \n",
    "    return result\n",
    "\n",
    "\n",
    "def find_all_texts(openings,closings,text):\n",
    "    result = []\n",
    "    for opening in openings:\n",
    "        for closing in closings:\n",
    "            result.extend(find_text(opening,closing,text))\n",
    "    return set(result)\n",
    "\n",
    "def sentencize_text(text):\n",
    "    \n",
    "    return  [sent for line in text.split('\\n') \n",
    "             for sent in nltk.sent_tokenize(line) \n",
    "             if line]\n",
    "\n",
    "\n",
    "def sentencize_findings(opening,closing,text):\n",
    "    all_text= find_all_texts(opening,closing,text)\n",
    "    \n",
    "    sentences = []\n",
    "    for txt in all_text:\n",
    "        sentences.extend(sentencize_text(txt))\n",
    "    return set(sentences)    \n",
    "        "
   ]
  },
  {
   "cell_type": "code",
   "execution_count": 97,
   "metadata": {},
   "outputs": [
    {
     "name": "stdout",
     "output_type": "stream",
     "text": [
      "[' mr. hynes,\\n\\nas we discussed on the phone, i am very pleased to accept the position of advertising assistant with smithfield granite and stonework. thank you again for the opportunity. i am eager to make a positive contribution to the company and to work with everyone on the smithfield team.\\nas we discussed, my starting salary will be $48,000 and health and life insurance benefits will be provided after 30 days of employment.\\ni look forward to starting employment on july 1, 20xx. if there is any additional information or paperwork you need prior to then, please let me know.\\n\\nagain, ']\n"
     ]
    }
   ],
   "source": [
    "print(find_text(begin ='Dear',end = 'thank you very much', text=text1))"
   ]
  },
  {
   "cell_type": "code",
   "execution_count": 98,
   "metadata": {},
   "outputs": [
    {
     "ename": "NameError",
     "evalue": "name 'text' is not defined",
     "output_type": "error",
     "traceback": [
      "\u001b[0;31m---------------------------------------------------------------------------\u001b[0m",
      "\u001b[0;31mNameError\u001b[0m                                 Traceback (most recent call last)",
      "\u001b[0;32m<ipython-input-98-d487e607f73d>\u001b[0m in \u001b[0;36m<module>\u001b[0;34m\u001b[0m\n\u001b[0;32m----> 1\u001b[0;31m \u001b[0mfind_all_texts\u001b[0m\u001b[0;34m(\u001b[0m\u001b[0mopenings\u001b[0m\u001b[0;34m,\u001b[0m\u001b[0mclosings\u001b[0m\u001b[0;34m,\u001b[0m\u001b[0mtext\u001b[0m\u001b[0;34m)\u001b[0m\u001b[0;34m\u001b[0m\u001b[0;34m\u001b[0m\u001b[0m\n\u001b[0m",
      "\u001b[0;31mNameError\u001b[0m: name 'text' is not defined"
     ]
    }
   ],
   "source": [
    "find_all_texts(openings,closings,text)"
   ]
  },
  {
   "cell_type": "code",
   "execution_count": 7,
   "metadata": {},
   "outputs": [],
   "source": [
    "#!pip install nltk"
   ]
  },
  {
   "cell_type": "code",
   "execution_count": 8,
   "metadata": {},
   "outputs": [
    {
     "data": {
      "text/plain": [
       "['Dear Mr. Hynes,',\n",
       " 'As we discussed on the phone, I am very pleased to accept the position of Advertising Assistant with Smithfield Granite and Stonework.',\n",
       " 'Thank you again for the opportunity.',\n",
       " 'I am eager to make a positive contribution to the company and to work with everyone on the Smithfield team.',\n",
       " 'As we discussed, my starting salary will be $48,000 and health and life insurance benefits will be provided after 30 days of employment.',\n",
       " 'I look forward to starting employment on July 1, 20XX.',\n",
       " 'If there is any additional information or paperwork you need prior to then, please let me know.',\n",
       " 'Again, thank you very much.',\n",
       " 'Handwritten Signature (hard copy letter)',\n",
       " 'Jason Burnett']"
      ]
     },
     "execution_count": 8,
     "metadata": {},
     "output_type": "execute_result"
    }
   ],
   "source": [
    "sentencize_text(text)"
   ]
  },
  {
   "cell_type": "code",
   "execution_count": 9,
   "metadata": {},
   "outputs": [
    {
     "data": {
      "text/plain": [
       "{' mr. hynes,',\n",
       " 'again, thank you very much.',\n",
       " 'as we discussed on the phone, i am very pleased to accept the position of advertising assistant with smithfield granite and stonework.',\n",
       " 'as we discussed, my starting salary will be $48,000 and health and life insurance benefits will be provided after 30 days of employment.',\n",
       " 'handwritten signature (hard copy letter)',\n",
       " 'i am eager to make a positive contribution to the company and to work with everyone on the smithfield team.',\n",
       " 'i look forward to starting employment on july 1, 20xx.',\n",
       " 'if there is any additional information or paperwork you need prior to then, please let me know.',\n",
       " 'jason burnett',\n",
       " 'thank you again for the opportunity.'}"
      ]
     },
     "execution_count": 9,
     "metadata": {},
     "output_type": "execute_result"
    }
   ],
   "source": [
    "sentencize_findings(openings,closings,text)"
   ]
  },
  {
   "cell_type": "code",
   "execution_count": 10,
   "metadata": {},
   "outputs": [],
   "source": [
    "## Declines"
   ]
  },
  {
   "cell_type": "code",
   "execution_count": 12,
   "metadata": {},
   "outputs": [],
   "source": [
    "import os\n",
    "import pandas as pd\n",
    "data_dir = 'data/raw/accept'\n",
    "files = []\n",
    "\n",
    "def file_to_sentences(file):\n",
    "    text =open(os.path.join(data_dir,file)).read()\n",
    "    return sentencize_findings(openings,closings,text)\n",
    "\n",
    "def dir_to_sentences(data_dir):\n",
    "    return (sent for file in os.listdir(data_dir) for sent in file_to_sentences(file))\n",
    "\n",
    "documents = pd.Series(dir_to_sentences(data_dir))\n"
   ]
  },
  {
   "cell_type": "code",
   "execution_count": 15,
   "metadata": {},
   "outputs": [
    {
     "data": {
      "text/plain": [
       "(467944,)"
      ]
     },
     "execution_count": 15,
     "metadata": {},
     "output_type": "execute_result"
    }
   ],
   "source": [
    "documents.shape"
   ]
  },
  {
   "cell_type": "code",
   "execution_count": 16,
   "metadata": {},
   "outputs": [
    {
     "data": {
      "text/plain": [
       "0                             \\tif(v==2){currentsuggest++;}\n",
       "1                             \\tif(v==1){currentsuggest--;}\n",
       "2         \\tdocument.getelementbyid('divsuggest').style....\n",
       "3                               function keysuggest(obj,e){\n",
       "4                                                [name, ex.\n",
       "                                ...                        \n",
       "467757    please make sure to hand over your duties as s...\n",
       "467758    s letter an acknowledgment of your decision to...\n",
       "467759    if your decision is final, than i can only wis...\n",
       "467760                       le you were at [company name].\n",
       "467762    we can only thank you for your time here and w...\n",
       "Length: 181457, dtype: object"
      ]
     },
     "execution_count": 16,
     "metadata": {},
     "output_type": "execute_result"
    }
   ],
   "source": [
    "documents.drop_duplicates()"
   ]
  },
  {
   "cell_type": "code",
   "execution_count": null,
   "metadata": {},
   "outputs": [],
   "source": [
    "documents.to_csv('data/interim/sentences_acceptance.csv', index=False)"
   ]
  },
  {
   "cell_type": "code",
   "execution_count": 19,
   "metadata": {},
   "outputs": [
    {
     "data": {
      "text/plain": [
       "['\\tif(v==2){currentsuggest++;}',\n",
       " '\\tif(v==1){currentsuggest--;}',\n",
       " \"\\tdocument.getelementbyid('divsuggest').style.display='';\",\n",
       " 'function keysuggest(obj,e){',\n",
       " ' [name, ex.',\n",
       " '  m=s.getelementsbytagname(o)[0];a.async=1;a.src=g;m.parentnode.insertbefore(a,m)',\n",
       " 'rate t',\n",
       " \"\\t\\tif(e.keycode==13||e.keycode==9){document.getelementbyid('divsuggest').style.display='none';currentsuggest=0;return true;}\",\n",
       " 'function loadsuggest(a){',\n",
       " '  (i[r].q=i[r].q||[]).push(arguments)},i[r].l=1*new date();a=s.createelement(o),',\n",
       " 'red an alternative applicant.',\n",
       " 'abc co].',\n",
       " '\\t\\tif(e.keycode==40){',\n",
       " '\\t\\t\\tel(\"score_cn_\"+id).innerhtml=\\'<div class=\"tnk curv3\">thank you for voting t',\n",
       " 'sales manager] at [state firm name, ex.',\n",
       " \"  })(window,document,'script','//www.google-analytics.com/analytics.js','ga');\",\n",
       " 'function hidesuggest(){timersuggest=settimeout(\"document.getelementbyid(\\'divsuggest\\').style.display=\\'none\\';currentsuggest=0;\",20);}',\n",
       " 'since you have not accepted our offer, we have',\n",
       " '\\t}',\n",
       " '\\t\\t\\tsample #1',\n",
       " '\\tfree collections of sample letters.',\n",
       " \"\\tdocument.getelementbyid('divsuggest').innerhtml=r;\",\n",
       " '\\t\\t\\tmost popular -',\n",
       " 's letter helpful?',\n",
       " '(adsbygoogle = window.adsbygoogle || []).push({});',\n",
       " 'function highlightsuggest(v){',\n",
       " '[name and address, ex.',\n",
       " 'function processsuggest(r){',\n",
       " 'tom atkinson',\n",
       " '\\t\\tif (xmlhttp.readystate==4 && xmlhttp.status==200){',\n",
       " '/* for ajax request */',\n",
       " '\\tv.onreadystatechange = function(){if(t',\n",
       " 'zip post code]',\n",
       " 'since you have not accepted our offer, we have hired an alternative applicant.',\n",
       " 'sincerely,',\n",
       " \"\\tdocument.getelementbyid('l'+currentsuggest).style.background='#f2f2f2';\",\n",
       " '\\t\\t\\t\\tapology letter',\n",
       " \"s.responsetext)}else{document.getelementbyid('divsuggest').style.display='none';currentsuggest=0;}}};\",\n",
       " 'sample letters: rescinding job offer before acceptance: other reason:',\n",
       " 'tom atkinson],',\n",
       " '\\tif(e){',\n",
       " 's letter and help us improve our system by providing the',\n",
       " '\\t\\t\\t\\t\\t\\t\\tsearch »',\n",
       " '\\txmlhttp.onreadystatechange=function() {',\n",
       " 'learn more.',\n",
       " \"\\tif(currentsuggest){document.getelementbyid('l'+currentsuggest).style.background='';}\",\n",
       " \"\\tsuggestobj=obj;settimeout('loadsuggest()',1);\",\n",
       " '\\t\\t\\t\\tcomplaint letter',\n",
       " 's.readystate==4){if(t',\n",
       " '\\tclearinterval(timersuggest); currentsuggest=0;',\n",
       " '\\t\\t\\trequest letter -',\n",
       " \"s sample letter.</div>';\",\n",
       " 'we wish you the best in your career.',\n",
       " '\\t\\tif(e.keycode==40){highlightsuggest(2);return false;}',\n",
       " '[your name, ex.',\n",
       " '\\t\\t\\t\\t\\tgood sample letter',\n",
       " '}',\n",
       " '\\t© 2020 isampleletter.com - request a letter - cookie policy',\n",
       " 'var suggestobj,timersuggest,currentsuggest=0;',\n",
       " 'i am reluctantly writing to inform you that we are no longer able to uphold our job offer to you of  [date, ex.',\n",
       " '\\t\\t\\t\\tfriendly letter',\n",
       " '\\t\\t\\tel(\"score_cn_\"+id).innerhtml=\\'<div class=\"tnk curv3\">thank you for voting this sample letter.</div>\\';',\n",
       " '\\tif (window.event && e){e = window.event;}',\n",
       " '\\t\\tletter writing guide',\n",
       " \"  ga('send', 'pageview');\",\n",
       " 'dear [name, ex.',\n",
       " 'function el(id){return document.getelementbyid(id);}',\n",
       " '\\t\\t\\t\\t\\tbad sample letter',\n",
       " 's letter and help us improve our system by providing the best sample letters.',\n",
       " 'ghlightsuggest(2);return false;}',\n",
       " '\\t\\t\\t\\trecommendation letter',\n",
       " '\\t\\tif(e.keycode==38){',\n",
       " 'please accept our apologies.',\n",
       " '\\tvar v= createxmlhttprequest();',\n",
       " '\\t\\t\\t\\tthank you note',\n",
       " \"\\tif(document.getelementbyid('divsuggest').style.display=='none'){return true}\",\n",
       " '\\t\\t\\t\\t\\trate t',\n",
       " \"\\tif(!document.getelementbyid('l'+currentsuggest)){currentsuggest=1;}\",\n",
       " '\\t\\t\\t\\tresignation letter',\n",
       " 'function httprequest(){\\tvar xmlhttp = false; var xmlhttp = (window.xmlhttprequest) ?',\n",
       " '\\t\\t}',\n",
       " '[date]',\n",
       " \"ld(div);set_cookie('cookie_policy','accepted',365);}cookies help us maximise your experience on our website.\",\n",
       " 'ghlightsuggest(1);return false;}',\n",
       " '\\talignsuggest();',\n",
       " '\\t\\t\\t\\tinterview',\n",
       " '\\t\\t\\t\\t\\twas this letter helpful?',\n",
       " '\\tvar xmlhttp = httprequest();',\n",
       " \"\\tv.open('get', '/search.ajax.php?&q='+escape(suggestobj.value));\",\n",
       " 'got it',\n",
       " 'xmlhttp=new xmlhttprequest() : xmlhttp=new activexobject(\"microsoft.xmlhttp\");\\treturn xmlhttp; }',\n",
       " 'by continuing, you agree to our use of cookies.',\n",
       " 'rate this letter and help us improve our system by providing the best sample letters.',\n",
       " 'ghlightsuggest(v){',\n",
       " \"\\tif(!suggestobj.value){document.getelementbyid('divsuggest').style.display='none';currentsuggest=0;return true;}\",\n",
       " '\\t\\t\\t\\tbusiness letter',\n",
       " 'tony montana]',\n",
       " 's letter',\n",
       " '\\t\\t\\t\\tinterview thank you letter',\n",
       " '\\treturn true;']"
      ]
     },
     "execution_count": 19,
     "metadata": {},
     "output_type": "execute_result"
    }
   ],
   "source": [
    "[i for i in documents[:100]]"
   ]
  },
  {
   "cell_type": "code",
   "execution_count": null,
   "metadata": {},
   "outputs": [],
   "source": []
  }
 ],
 "metadata": {
  "kernelspec": {
   "display_name": "Python 3",
   "language": "python",
   "name": "python3"
  },
  "language_info": {
   "codemirror_mode": {
    "name": "ipython",
    "version": 3
   },
   "file_extension": ".py",
   "mimetype": "text/x-python",
   "name": "python",
   "nbconvert_exporter": "python",
   "pygments_lexer": "ipython3",
   "version": "3.7.3"
  }
 },
 "nbformat": 4,
 "nbformat_minor": 4
}
