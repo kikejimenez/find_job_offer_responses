{
 "cells": [
  {
   "cell_type": "code",
   "execution_count": null,
   "metadata": {},
   "outputs": [],
   "source": [
    "import os, sys, logging\n",
    "from pathlib import Path\n",
    "import gensim\n",
    "import pandas as pd\n",
    "import numpy as np\n",
    "\n",
    "from gensim.utils import simple_preprocess\n",
    "from gensim.parsing.preprocessing import remove_stopwords\n",
    "\n",
    "MODEL_FILE = 'gensim_model'\n",
    "TYPES_FILE = 'list_soft_skills.txt'  # www.resumegenius.com\n",
    "\n",
    "MODEL = gensim.models.Word2Vec.load(MODEL_FILE)\n",
    "\n",
    "\n",
    "def read_input(input_file):\n",
    "    \"\"\"This method reads the input file\"\"\"\n",
    "    for line in open(input_file):\n",
    "        yield remove_stopwords(line)\n",
    "\n",
    "\n",
    "def make_doc_df(file):\n",
    "    documents = pd.Series(read_input(file)).drop_duplicates()\n",
    "    tokens = documents.apply(lambda doc: simple_preprocess(doc))\n",
    "    tokens = tokens[tokens.apply(lambda x: len(x) > 0).values]\n",
    "    df = pd.DataFrame([documents, tokens]).T\n",
    "    df.columns = ['document', 'token']\n",
    "    logging.info(\"Done reading data file\")\n",
    "    return df.dropna()\n",
    "\n",
    "\n",
    "def process_sentence(sentence):\n",
    "    return [\n",
    "        word for word in simple_preprocess(remove_stopwords(sentence))\n",
    "        if word in MODEL.wv.vocab\n",
    "    ]\n",
    "\n",
    "\n",
    "def get_score_pd(sentence, soft_skills):\n",
    "    '''Get Cosine similarity of a list of sentences'''\n",
    "    docs = [process_sentence(sentence)]\n",
    "    flatten_docs = [d for doc in docs for d in doc]\n",
    "    soft_skills['similarities'] = soft_skills.token.apply(\n",
    "        lambda sk: MODEL.wv.n_similarity(sk, flatten_docs)\n",
    "    )\n",
    "    result = soft_skills[[\n",
    "        'document', 'similarities'\n",
    "    ]].sort_values(by=['similarities'], ascending=True)[-5:]\n",
    "    result.reset_index(drop=True, inplace=True)\n",
    "    result.columns = ['soft_skills', 'score']\n",
    "    result.index = pd.Index([1, 2, 3, 4, 5], name='top')\n",
    "    return result[['soft_skills']]\n"
   ]
  }
 ],
 "metadata": {
  "kernelspec": {
   "display_name": "Python 3",
   "language": "python",
   "name": "python3"
  },
  "language_info": {
   "codemirror_mode": {
    "name": "ipython",
    "version": 3
   },
   "file_extension": ".py",
   "mimetype": "text/x-python",
   "name": "python",
   "nbconvert_exporter": "python",
   "pygments_lexer": "ipython3",
   "version": "3.7.3"
  }
 },
 "nbformat": 4,
 "nbformat_minor": 4
}
