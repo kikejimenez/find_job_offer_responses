{
 "cells": [
  {
   "cell_type": "code",
   "execution_count": 2,
   "metadata": {},
   "outputs": [],
   "source": [
    "text1 = '''\n",
    "Dear Mr. Hynes,\n",
    "\n",
    "As we discussed on the phone, I am very pleased to accept the position of Advertising Assistant with Smithfield Granite and Stonework. Thank you again for the opportunity. I am eager to make a positive contribution to the company and to work with everyone on the Smithfield team.\n",
    "\n",
    "As we discussed, my starting salary will be $48,000 and health and life insurance benefits will be provided after 30 days of employment.\n",
    "\n",
    "I look forward to starting employment on July 1, 20XX. If there is any additional information or paperwork you need prior to then, please let me know.\n",
    "\n",
    "Again, thank you very much.\n",
    "\n",
    "Handwritten Signature (hard copy letter)\n",
    "\n",
    "Jason Burnett\n",
    "'''\n",
    "\n",
    "\n",
    "text2 = '''\n",
    "Dear Mr Kelly\n",
    "\n",
    "Thank you very much for offering me the position of Customer Service Manager with XYZ Corporation.\n",
    "\n",
    "While I understand the position and your company offer a great deal to a prospective employee, I have had another offer which I believe more closely matches what I am looking for. Therefore, after giving it much careful thought, I must decline your offer.\n",
    "\n",
    "Thank you for your time and effort. I wish you and your company well.\n",
    "\n",
    "Sincerely\n",
    "\n",
    "Your signature\n",
    "Typed name\n",
    "'''"
   ]
  },
  {
   "cell_type": "code",
   "execution_count": 122,
   "metadata": {},
   "outputs": [],
   "source": [
    "a = iter(x for x in (1,2,3))"
   ]
  },
  {
   "cell_type": "code",
   "execution_count": 3,
   "metadata": {},
   "outputs": [],
   "source": [
    "#!pip install nltk"
   ]
  },
  {
   "cell_type": "code",
   "execution_count": 91,
   "metadata": {},
   "outputs": [],
   "source": [
    "openings = [line.strip().lower() for line in open('./data/opening_closing/opening.csv')]\n",
    "closings = [line.strip().lower() for line in open('./data/opening_closing/closing.csv')]"
   ]
  },
  {
   "cell_type": "code",
   "execution_count": 92,
   "metadata": {},
   "outputs": [],
   "source": [
    "import string as String\n",
    "\n",
    "from nltk.tokenize import sent_tokenize, word_tokenize\n",
    "def is_substring_in_string(substring,string):\n",
    "    '''Two criteria for a substring to be contained in string'''\n",
    "    string = string.strip().lower()\n",
    "    substring = substring.strip().lower()\n",
    "    set_token = lambda sent: set(word_tokenize(sent))\n",
    "    \n",
    "    if not substring in string:\n",
    "        return False    \n",
    "    if not set_token(substring).issubset(set_token(string)):\n",
    "        return False\n",
    "    \n",
    "    return True\n",
    "    \n",
    "def is_valid_string(substrings,string):\n",
    "    '''A valid string is an opening or a closing'''\n",
    "    length = len([token for token in word_tokenize(string) if token not in String.punctuation])\n",
    "    if length > 6:\n",
    "        return False\n",
    "    return any(is_substring_in_string(substring,string) for substring in substrings)\n",
    "    "
   ]
  },
  {
   "cell_type": "code",
   "execution_count": 93,
   "metadata": {},
   "outputs": [
    {
     "data": {
      "text/plain": [
       "True"
      ]
     },
     "execution_count": 93,
     "metadata": {},
     "output_type": "execute_result"
    }
   ],
   "source": [
    "#should return True\n",
    "string = 'Dear Mr. Hynes,'\n",
    "substrings = ['hello','dear']\n",
    "is_valid_string(substrings,string)"
   ]
  },
  {
   "cell_type": "code",
   "execution_count": 94,
   "metadata": {},
   "outputs": [
    {
     "data": {
      "text/plain": [
       "True"
      ]
     },
     "execution_count": 94,
     "metadata": {},
     "output_type": "execute_result"
    }
   ],
   "source": [
    "#should return True\n",
    "string = 'Again, thank you very much.'\n",
    "substrings = ['bye','thank you']\n",
    "is_valid_string(substrings,string)"
   ]
  },
  {
   "cell_type": "code",
   "execution_count": 95,
   "metadata": {},
   "outputs": [
    {
     "data": {
      "text/plain": [
       "False"
      ]
     },
     "execution_count": 95,
     "metadata": {},
     "output_type": "execute_result"
    }
   ],
   "source": [
    "#should return False\n",
    "string = 'i said hi before cause it is important'\n",
    "substrings = ['hello','hi']\n",
    "is_valid_string(substrings,string) "
   ]
  },
  {
   "cell_type": "code",
   "execution_count": 119,
   "metadata": {},
   "outputs": [],
   "source": [
    "def find_text(openings,closings,text):\n",
    "    '''Results are openings or closings'''\n",
    "   \n",
    "    isopening, isclosing = False, False\n",
    "    lines = [line.strip() for line in text.split('\\n') if line]\n",
    "\n",
    "    results = []\n",
    "    \n",
    "    \n",
    "    for k,line in enumerate(lines):\n",
    "       \n",
    "        if isopening and isclosing:\n",
    "            result = '\\n'.join(lines[nb_open:nb_close])\n",
    "            results.append(result)\n",
    "            isopening, isclosing = False, False\n",
    "            \n",
    "        if not isopening:\n",
    "            isopening = is_valid_string(openings,line)\n",
    "            nb_open = k + 1\n",
    "\n",
    "        elif not isclosing:\n",
    "            isclosing = is_valid_string(closings,line)\n",
    "            nb_close = k\n",
    "            \n",
    "    return results       \n",
    "            "
   ]
  },
  {
   "cell_type": "code",
   "execution_count": 115,
   "metadata": {},
   "outputs": [],
   "source": [
    "#Test find_text\n",
    "text1 = '''\n",
    "Dear Mr. Hynes,\n",
    "\n",
    "As we discussed on the phone, I am very pleased to accept the position of Advertising Assistant with Smithfield Granite and Stonework. Thank you again for the opportunity. I am eager to make a positive contribution to the company and to work with everyone on the Smithfield team.\n",
    "As we discussed, my starting salary will be $48,000 and health and life insurance benefits will be provided after 30 days of employment.\n",
    "I look forward to starting employment on July 1, 20XX. If there is any additional information or paperwork you need prior to then, please let me know.\n",
    "\n",
    "Again, thank you very much.\n",
    "\n",
    "Handwritten Signature (hard copy letter)\n",
    "Jason Burnett\n",
    "'''\n",
    "\n",
    "\n",
    "text2 = '''\n",
    "Dear Mr Kelly\n",
    "\n",
    "Thank you very much for offering me the position of Customer Service Manager with XYZ Corporation.\n",
    "While I understand the position and your company offer a great deal to a prospective employee, I have had another offer which I believe more closely matches what I am looking for. Therefore, after giving it much careful thought, I must decline your offer.\n",
    "Thank you for your time and effort. I wish you and your company well.\n",
    "\n",
    "Sincerely\n",
    "\n",
    "Your signature\n",
    "Typed name\n",
    "'''\n",
    "\n",
    "openings = ['hello', 'good morning', 'good afternoon', 'hi', 'dear', 'to whom it may concern', 'my darling']\n",
    "\n",
    "closings = ['best', 'my best', 'regards', 'respectfully', 'sincerely',\n",
    "            'thank you', 'yours', 'cordially', 'with appreciation',\n",
    "            'with gratitude', 'with sincere']\n",
    "\n"
   ]
  },
  {
   "cell_type": "code",
   "execution_count": 116,
   "metadata": {},
   "outputs": [
    {
     "name": "stdout",
     "output_type": "stream",
     "text": [
      "['dear mr. hynes,', 'as we discussed on the phone, i am very pleased to accept the position of advertising assistant with smithfield granite and stonework. thank you again for the opportunity. i am eager to make a positive contribution to the company and to work with everyone on the smithfield team.', 'as we discussed, my starting salary will be $48,000 and health and life insurance benefits will be provided after 30 days of employment.', 'i look forward to starting employment on july 1, 20xx. if there is any additional information or paperwork you need prior to then, please let me know.', 'again, thank you very much.', 'handwritten signature (hard copy letter)', 'jason burnett']\n"
     ]
    },
    {
     "data": {
      "text/plain": [
       "['as we discussed on the phone, i am very pleased to accept the position of advertising assistant with smithfield granite and stonework. thank you again for the opportunity. i am eager to make a positive contribution to the company and to work with everyone on the smithfield team.\\nas we discussed, my starting salary will be $48,000 and health and life insurance benefits will be provided after 30 days of employment.\\ni look forward to starting employment on july 1, 20xx. if there is any additional information or paperwork you need prior to then, please let me know.']"
      ]
     },
     "execution_count": 116,
     "metadata": {},
     "output_type": "execute_result"
    }
   ],
   "source": [
    "find_text(openings,closings,text1.lower())"
   ]
  },
  {
   "cell_type": "code",
   "execution_count": 118,
   "metadata": {},
   "outputs": [
    {
     "name": "stdout",
     "output_type": "stream",
     "text": [
      "['dear mr kelly', 'thank you very much for offering me the position of customer service manager with xyz corporation.', 'while i understand the position and your company offer a great deal to a prospective employee, i have had another offer which i believe more closely matches what i am looking for. therefore, after giving it much careful thought, i must decline your offer.', 'thank you for your time and effort. i wish you and your company well.', 'sincerely', 'your signature', 'typed name']\n"
     ]
    },
    {
     "data": {
      "text/plain": [
       "['thank you very much for offering me the position of customer service manager with xyz corporation.\\nwhile i understand the position and your company offer a great deal to a prospective employee, i have had another offer which i believe more closely matches what i am looking for. therefore, after giving it much careful thought, i must decline your offer.\\nthank you for your time and effort. i wish you and your company well.']"
      ]
     },
     "execution_count": 118,
     "metadata": {},
     "output_type": "execute_result"
    }
   ],
   "source": [
    "find_text(openings,closings,text2.lower())"
   ]
  },
  {
   "cell_type": "code",
   "execution_count": 14,
   "metadata": {},
   "outputs": [
    {
     "data": {
      "text/plain": [
       "['as we discussed on the phone, i am very pleased to accept the position of advertising assistant with smithfield granite and stonework. thank you again for the opportunity. i am eager to make a positive contribution to the company and to work with everyone on the smithfield team.\\nas we discussed, my starting salary will be $48,000 and health and life insurance benefits will be provided after 30 days of employment.\\ni look forward to starting employment on july 1, 20xx. if there is any additional information or paperwork you need prior to then, please let me know.',\n",
       " 'thank you very much for offering me the position of customer service manager with xyz corporation.\\nwhile i understand the position and your company offer a great deal to a prospective employee, i have had another offer which i believe more closely matches what i am looking for. therefore, after giving it much careful thought, i must decline your offer.\\nthank you for your time and effort. i wish you and your company well.']"
      ]
     },
     "execution_count": 14,
     "metadata": {},
     "output_type": "execute_result"
    }
   ],
   "source": [
    "text3 = text1+'\\n'+text2\n",
    "find_text(openings,closings,text3.lower())"
   ]
  },
  {
   "cell_type": "code",
   "execution_count": null,
   "metadata": {},
   "outputs": [],
   "source": [
    "#!pip install nltk"
   ]
  },
  {
   "cell_type": "code",
   "execution_count": null,
   "metadata": {},
   "outputs": [],
   "source": [
    "## Declines"
   ]
  },
  {
   "cell_type": "code",
   "execution_count": null,
   "metadata": {},
   "outputs": [],
   "source": [
    "import os\n",
    "import pandas as pd\n",
    "data_dir = 'data/raw/accept'\n",
    "files = [os.path.join(data_dir,fn) for fn in os.listdir(data_dir)[:15]]\n",
    "\n",
    "def file_to_sentences(file):\n",
    "    text =open(file).read()\n",
    "    return sentencize_findings(openings,closings,text)\n",
    "\n",
    "def dir_to_sentences(files):\n",
    "    return (sent for file in files for sent in file_to_sentences(file))\n",
    "\n",
    "documents = pd.Series(dir_to_sentences(data_dir))\n",
    "files"
   ]
  },
  {
   "cell_type": "code",
   "execution_count": 120,
   "metadata": {},
   "outputs": [],
   "source": [
    "import os\n",
    "import pandas as pd\n",
    "data_dir = 'data/raw/accept'\n",
    "\n",
    "def load_data(data_dir):\n",
    "    file_paths = [os.path.join(data_dir,fn) for fn in os.listdir(data_dir)[:15]]\n",
    "    read_files = (open(path).read() for path in file_paths)\n",
    "    return (result for read_f in read_files for result in find_text(openings,closings,read_f.lower()))\n",
    "\n",
    "documents = pd.Series(load_data(data_dir))\n"
   ]
  },
  {
   "cell_type": "code",
   "execution_count": 121,
   "metadata": {},
   "outputs": [
    {
     "data": {
      "text/plain": [
       "(3,)"
      ]
     },
     "execution_count": 121,
     "metadata": {},
     "output_type": "execute_result"
    }
   ],
   "source": [
    "documents.shape"
   ]
  },
  {
   "cell_type": "code",
   "execution_count": 27,
   "metadata": {},
   "outputs": [
    {
     "data": {
      "text/plain": [
       "(289,)"
      ]
     },
     "execution_count": 27,
     "metadata": {},
     "output_type": "execute_result"
    }
   ],
   "source": [
    "documents.drop_duplicates().shape"
   ]
  },
  {
   "cell_type": "code",
   "execution_count": null,
   "metadata": {},
   "outputs": [],
   "source": []
  },
  {
   "cell_type": "code",
   "execution_count": 31,
   "metadata": {},
   "outputs": [
    {
     "data": {
      "text/plain": [
       "['i am reluctantly writing to inform you that we are no longer able to uphold our job offer to you of  [date, ex. june 1, 1998] for the position of [state position, ex. sales manager] at [state firm name, ex. abc co].  [state reason, ex. since you have not accepted our offer, we have hired an alternative applicant.  as you understand, we were pressed for time and needed to fill that position as soon as possible.]  please accept our apologies.  \\nwe wish you the best in your career.',\n",
       " 'thank you for oﬀering me the position of assistant\\naccountant with open door company. i am\\npleased to accept this oﬀer and look forward to\\nstarting employment with your company on\\nfebruary 3, 2020.\\nas we discussed my starting salary will be $40,000\\nand health and life insurance benefits will be\\nprovided a er 60 days of employment.\\nshare\\nthis\\npage\\n\\uf082\\n\\uf081',\n",
       " 'i would like to express my appreciation for\\nincluding me in the interview process for your\\naccountant position. i enjoyed meeting with you\\nand learning more about your company.\\nhowever, i have accepted another employment',\n",
       " 'i humbly accept the gracious job offer you have sent\\nme. i am eager to be able to apply my skills in the eld\\nfor the bene t of your company.\\ni would like to ask about the terms of the job post that\\nyou have offered. (insert the questions that you may\\nhave) i would also like to inquire about the date when\\nyou expect me to report to your o ce.\\nthank you for choosing me for the job position, and i\\nhope that this is the start of a great partnership\\nbetween us.',\n",
       " 'following our brief discussion (yesterday afternoon) over the phone, i am hereby writing to officially\\nconfirm my acceptance of your offer, for the position of (name of position) at (company name).\\nas discussed, i will report for my first day at work on (date), i am very much looking forward to working\\ndirectly along side of (name of work colleague) and the new experiences and challenges that await me at\\n(name of company).\\ni also hereby confirm my understanding and agreement of your yearly salary offer of (amount €/$ etc.)\\nwith a raise assessment taking place after (1 year/6 months etc.) for possible salary modifications.\\nplease do not hesitate to contact me between now and (august) should you require any further\\ninformation from me, in any case, i will be in touch shortly prior to my commencement date for any last\\nminute changes that may have occurred.\\nonce again, thank you for the wonderful opportunity with an exciting and dynamic company such as\\n(name of company), i am very much looking forward to the new challenges and experiences.',\n",
       " 'i’m very pleased to be accepting this job o er. i’m honored and\\nhumbled to be part of the team. i’ve attached a copy of the\\nemployment o er letter, signed and dated. if you need me to\\ncomplete any other forms related to my employment before my start\\ndate, please let me know and i’d be happy to get them back to you as\\nsoon as possible.\\nregarding my start date, here are a few potential dates that i would\\nbe available to begin:\\nsign up\\n\\x0calgrim.co\\nmay 15th\\nneed a b ac ku p p lan?\\nsign up\\nmay 22nd\\njune 2nd\\nlet me know if any of those work for you and the rest of the team.\\nonce again, i’m very excited to be starting with apple computers and\\ni look forward to seeing you in person!',\n",
       " 'i am writing this letter to inform you that i am agreeing to the terms you requested in your counter offer for the\\nposition of plant manager with easy manufacturing. in your proposal dated october 10, 2013, you had asked for\\na couple of changes to be made to the original offer, to include:\\n• additional relocation expenses for your family. our original offer only included the shipment of household\\ngoods for yourself, but you had asked for an increase to cover the cost of shipping goods for your husband\\nand two children as well. this request has been granted, and your new moving allowance has been\\nincreased from $4,000 to $12,000 as a result.\\n• an additional week of vacation each year. the original offer allowed for two weeks of vacation after one year\\nof service, but you had asked for one week to be given after six months of service, and then two more weeks\\nafter you had completed 12 months of service. this request has also been granted.\\nall other terms of our agreement are still in place concerning salary and benefits. in addition, we have agreed\\nthat you will begin your new position on december 1, 2013 in order to allow yourself enough time to relocate\\nhere with your family. we have already arranged for a welcoming reception for you the first week of december\\nin order to allow team members at the factory to get to know you a little better. i look forward to meeting you\\nupon your arrival, and are confident you will serve easy manufacturing well in your new position.',\n",
       " 'i want to thank you very much for offering me the role\\nof [insert role] at [insert company]. i appreciate that you\\ninterviewed a number of candidates and will have\\nspent much time reaching your decision.\\ni was very impressed by [insert company], which\\nmade my decision a difficult one. after careful\\nconsideration, however, i have taken the decision to\\ndecline your offer of employment. the reason is that i\\nhave been offered a different role at a more senior\\nlevel, and with a greater opportunity to develop\\nmanagement skills.\\ni enjoyed meeting you and your colleagues, who were\\nfriendly and professional throughout. i would like to\\nwish you and your company the very best for the\\nfuture and i thank you again for your time.',\n",
       " 'comments\\n0 comments\\nverbal tests\\nmechanical tests\\nabstract tests\\ncase studies\\n\\x0csponsored\\npor mucho tiempo ella pago todo en efectivo hasta que\\nlas autoridades entendieron la razón\\nicepop\\nshl tests\\nnumerical tests\\nsolteros con nivel ¡encuentra a esa persona especial!\\nsolterosconnivel.mx\\nverbal tests\\nabstract tests\\nmechanical tests\\ngla 2020. agenda una prueba de manejo y llévatelo\\ndesde $5,490 pesos mensuales\\nmercedes benz\\n8 hábitos en la ducha que necesitas dejar de hacer\\nahora\\nflashposts.com\\ninglés sin aprender gramática. ¡el cerebro absorbe\\ncomo una esponja!\\nfast phrases\\nllegaron los lentes lupa que amplifican hasta los\\ndetalles más diminutos. descúbre aquí\\nbig vision\\ncomments\\ncommunity\\n\\uf108 recommend\\nt tweet\\n🔒\\n1\\n\\ue603\\nlogin',\n",
       " '(adsbygoogle = window.adsbygoogle || []).push({});\\ni am pleased to receive your job offer for the profile of deputy marketing manager at abc corporation pvt. ltd. please consider my email as formal acceptance of your offer. i look forward to be working under mr. richard brown and i promise to with utmost dedication and commitments to meet the goals outlined with this profile. all the roles and responsibilities of this profile match perfectly with my experience and skills.\\ni was told during the interview that i will be receiving annual compensation of $90,000 along with all the benefits which will begin after completion of one month with the company.\\nthank you again mr. simon for offering me this amazing opportunity. i would be happy to know you want me to read upon something before my joining. i look forward to work with you and the entire marketing team at abc corporation pvt. ltd. i will report at work on 1st july, 2016 as stated in the offer letter. in the meantime, you can call me at 123-4556.',\n",
       " 'many thanks for your call yesterday afternoon offering me the role of operations manager, which i was thrilled to receive.\\ncould you please let me know when you would need confirmation of my acceptance? i would like to do a little more\\nresearch and set up a meeting with my potential line manager to cover a few points prior to accepting. i am free most\\ndays this week after 5pm if that might be convenient?\\nonce again, many thanks for the opportunity and i look forward to progressing with this soon.',\n",
       " 'following our recent conversation, i want to thank you for offering me the position of sales assistant with your company. i\\nwould be delighted to accept your offer.\\nas we discussed, my starting salary will be £22,000 with 20 days paid annual leave and private health insurance after the\\nprobation period of 30 days has been passed.\\ni look forward to starting on [start date]. if there’s anything else you need prior to this time, please get in touch.\\nthank you again for this opportunity, and i look forward to working with you soon.\\n[your signature]\\n[your name]\\naccepting a job offer via email\\nif you want to accept a job offer by email, use a professional-looking email address. your own name is best; the employer\\ndoesn’t need to know about your nicknames.\\nsimilarly, check your email signature and make sure it’s correct and up to date, or blank if not relevant. if you’re in any\\ndoubt, send yourself a test email first.\\ninclude your name in the subject line (“your name – job offer acceptance”). this helps ensure that your message isn’t\\noverlooked in a busy inbox.\\nall the same rules apply for job offer acceptance emails as for letters above. it’s all too easy to hit send on an email, but\\nremember to proofread it before hitting ‘send’. ask a friend to check if necessary.\\nif you add a read receipt or delivery notification to the email, you can track when it’s been opened or delivered.\\nlooking for an email sample of how to respond to a job offer. look no further:\\njob acceptance email example / template\\nemail subject line\\n[your name] – job offer acceptance\\nemail body\\n\\x0cdear [hiring manager’s name],\\nmany thanks for your time on the phone yesterday. i would be delighted to accept the role of senior project manager\\nwithin your design team at wp widgets – with a starting salary of £30,000 and three weeks paid holiday. as we\\ndiscussed, i will also be working flexibly one day per week.\\ni can start on [start date], and would love to come in to meet the team before this date. if you could kindly arrange this and\\nlet me know a suitable date, i’d really appreciate it.\\ni have also put a signed acceptance letter in the post to you, which should reach your offices tomorrow.\\nif there’s any other paperwork you need from me please let me know, otherwise i look forward to joining the team on the\\n[start date].',\n",
       " 'thank you very much for letting me know how to accept an offer, you have really helped me\\n\\x0creply\\nselwyn griffiths\\ntuesday, 19 jun, 2018 (https://www.totaljobs.com/insidejob/how-to-accept-a-job-offer/#comment-313179)\\nthanks\\nreply\\nesther a. massaquoi\\ntuesday, 19 jun, 2018 (https://www.totaljobs.com/insidejob/how-to-accept-a-job-offer/#comment-313180)\\nthanks for the guide\\nreply\\ndorcas\\ntuesday, 19 jun, 2018 (https://www.totaljobs.com/insidejob/how-to-accept-a-job-offer/#comment-313184)\\nhi, which email will i use to accept the job offer please…\\nreply\\nbello isiaka\\ntuesday, 19 jun, 2018 (https://www.totaljobs.com/insidejob/how-to-accept-a-job-offer/#comment-313186)\\nthank you very much, for your help, to let know how to apply for application thanks.\\nreply\\nlorraine mtshali\\nfriday, 22 jun, 2018 (https://www.totaljobs.com/insidejob/how-to-accept-a-job-offer/#comment-313202)\\nthank you so much for every advice that you gave us before we decided to take any step\\nreply\\ngerhard\\nfriday, 22 jun, 2018 (https://www.totaljobs.com/insidejob/how-to-accept-a-job-offer/#comment-313206)',\n",
       " 'got it!\\nthank you so much for the o er to work as a cloudwallop software engineer. i very\\nmuch enjoyed meeting both you and the development team last week.\\n\\x0csadly, i’ll have to decline, since the position isn’t a ﬁt with my current career goals.\\ni wish you the best in your search for the perfect candidate. i’m cheered by the\\npossibility of working at your company in the future. would you be open to\\nconnecting on linkedin so we can keep in touch?',\n",
       " 'finelli,\\ngot it!\\ni wanted to thank you for the o er to work as a graphic designer at shibula designs.\\nyou have a great team and some exciting projects.\\n\\x0cunfortunately, i’ve decided to decline the o er, since i’ve accepted a position with a\\ndi erent ﬁrm.\\ni hope you ﬁnd the perfect candidate fast. i’d like to keep the door open to working at\\nshibula in the future. would it be okay to connect with you on linkedin?',\n",
       " 'berengar,\\ngot\\nit!job o er for your project manager position. it was nice to meet\\nmany thanks for\\nthe\\nall of you at foster brothers last week.\\n\\x0cwith reluctance, i’m declining. i’ve received an o er from another company with a\\ngenerous compensation package.\\ni hope you ﬁnd the right project manager for the job soon. i remain open to working\\nfor foster brothers in the future. could we stay in touch on linkedin?',\n",
       " 'i was thrilled to accept the job o er for the accountant position. it’s been a long-term\\ndream of mine to work for cisco, and it was great meeting you and the team last\\nweek.\\nunfortunately, on further consideration i have to retract my acceptance. this was a\\nvery di cult decision for me, but the position doesn’t ﬁt my career goals.\\nmany thanks for your help and time. i wish you the best of luck in ﬁlling the role. i’d\\nalso like to leave the door open to work with cisco in the future, should my situation\\nchange.',\n",
       " \"hope you can help me!.\\ni need to write a letter indicating my acceptance to a job offer, but i still have nothing in writing to cover the offer, with terms and\\nbenefits. all the negociations was made by telephone (they are in other country and i should work in cr). they are a totally\\ntrustful organization, but i dont know how to proceed\\nso, can somebody give me ideas to write the proper letter in english?\\nvenusenvy\\nsenior member\\nmaryland, usa\\nenglish, united states\\n16 diciembre 2005\\n\\uf1e0\\n#2\\naquí hay un ejemplo, querida inevero.\\notro ejemplo aquí.\\nuno más aquí!\\nyou don't yet know the terms and benefits? do you at least know how much you'll be earning?... or, when you'll start?...\\ng sanchez\\nsenior member\\natlanta, georgia\\nusa, english, mexican descent\\n16 diciembre 2005\\ninevero dijo:\\n\\uf1e0\\n#3\\n\\x0chi!\\nhope you can help me!.\\ni need to write a letter indicating my acceptance to a job offer, but i still have nothing in writing to cover the offer, with terms and benefits.\\nall the negociations was made by telephone (they are in other country and i should work in cr). they are a totally trustful organization,\\nbut i dont know how to proceed\\nso, can somebody give me ideas to write the proper letter in english?\\nto whom it may concern:\\nthank you very much for your offer of employment with ______(nombre de empresa). i am enthusiastic at the prospect of\\nworking there. before proceeding, however, i would respectfully request that a formal letter of offer be sent to me via _______\\n(fax/email/mail) so that i may see, in writing, the conditions, requirements, and benefits of my employment there. i will follow up\\nwith you by phone once i have received the document, so that we may proceed expeditiously. i am\",\n",
       " 'thank you for offering me the position of ….(name of the position) with\\xa0(name of the company). i am thankful to accept this job offer and look ahead to starting my career with your\\xa0company on\\xa0(mention date of joining).\\nas we discussed my offered job salary would be\\xa0(mention salary)\\xa0and medical and\\xa0 insurance benefits will be provided after\\xa045\\xa0days of joining the post of employment .\\nthank you again for giving me this opportunity. i am keen to join your team and make my positive contribution to the company.\\nfor further paperwork and other needs please contact me accordingly.\\n\\xa0',\n",
       " 'it is with deepest gratitude that i am writing to thank you for offering me the position of sales executive at xyz company. it is with pleasure that i am accepting job offer made by your good self and look forward to a long and prosperous business relation with xyz company.\\n\\xa0as discussed i will take up my responsibilities on the 13th\\xa0of july 2017, with a starting salary of $ 180000 per annum (cost to company).\\ni am eager to join your team and to make a positive contribution to the company.\\n\\xa0']"
      ]
     },
     "execution_count": 31,
     "metadata": {},
     "output_type": "execute_result"
    }
   ],
   "source": [
    "[document for document in documents.values[:20]]"
   ]
  },
  {
   "cell_type": "code",
   "execution_count": null,
   "metadata": {},
   "outputs": [],
   "source": [
    "[i for i in documents[:100]]"
   ]
  },
  {
   "cell_type": "code",
   "execution_count": null,
   "metadata": {},
   "outputs": [],
   "source": []
  }
 ],
 "metadata": {
  "jupytext": {
   "formats": "ipynb,py:light"
  },
  "kernelspec": {
   "display_name": "Python 3",
   "language": "python",
   "name": "python3"
  },
  "language_info": {
   "codemirror_mode": {
    "name": "ipython",
    "version": 3
   },
   "file_extension": ".py",
   "mimetype": "text/x-python",
   "name": "python",
   "nbconvert_exporter": "python",
   "pygments_lexer": "ipython3",
   "version": "3.7.3"
  }
 },
 "nbformat": 4,
 "nbformat_minor": 4
}
